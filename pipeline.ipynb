{
 "cells": [
  {
   "cell_type": "code",
   "execution_count": 1,
   "id": "upper-southeast",
   "metadata": {},
   "outputs": [],
   "source": [
    "import pandas as pd\n",
    "import numpy as np\n",
    "import seaborn as sns\n",
    "import matplotlib.pyplot as plt\n",
    "\n",
    "from sklearn.model_selection import KFold\n",
    "from catboost import CatBoostRegressor\n",
    "\n",
    "from sklearn.metrics import roc_auc_score\n",
    "\n",
    "pd.set_option('display.max_columns', None)"
   ]
  },
  {
   "cell_type": "code",
   "execution_count": 2,
   "id": "closed-still",
   "metadata": {},
   "outputs": [],
   "source": [
    "train_df = pd.read_csv('data/TrainingWiDS2021.csv')"
   ]
  },
  {
   "cell_type": "code",
   "execution_count": 3,
   "id": "bronze-davis",
   "metadata": {},
   "outputs": [
    {
     "data": {
      "text/plain": [
       "bun_apache            0.145241\n",
       "d1_bun_max            0.146990\n",
       "weight                0.155517\n",
       "bmi                   0.169043\n",
       "h1_glucose_min        0.304520\n",
       "h1_glucose_max        0.316847\n",
       "glucose_apache        0.354359\n",
       "d1_glucose_max        0.400742\n",
       "diabetes_mellitus     1.000000\n",
       "readmission_status         NaN\n",
       "Name: diabetes_mellitus, dtype: float64"
      ]
     },
     "execution_count": 3,
     "metadata": {},
     "output_type": "execute_result"
    }
   ],
   "source": [
    "train_df.corr()['diabetes_mellitus'].sort_values().tail(10)"
   ]
  },
  {
   "cell_type": "code",
   "execution_count": 4,
   "id": "piano-credit",
   "metadata": {},
   "outputs": [
    {
     "data": {
      "text/plain": [
       "h1_diasbp_invasive_min   -0.103672\n",
       "h1_diasbp_invasive_max   -0.088664\n",
       "h1_hco3_max              -0.086883\n",
       "h1_hco3_min              -0.086548\n",
       "d1_diasbp_invasive_min   -0.084994\n",
       "d1_hemaglobin_max        -0.078801\n",
       "d1_hematocrit_max        -0.067271\n",
       "h1_hemaglobin_min        -0.065774\n",
       "h1_mbp_invasive_min      -0.065732\n",
       "h1_hemaglobin_max        -0.063734\n",
       "Name: diabetes_mellitus, dtype: float64"
      ]
     },
     "execution_count": 4,
     "metadata": {},
     "output_type": "execute_result"
    }
   ],
   "source": [
    "train_df.corr()['diabetes_mellitus'].sort_values().head(10)"
   ]
  },
  {
   "cell_type": "code",
   "execution_count": 5,
   "id": "confident-artwork",
   "metadata": {},
   "outputs": [],
   "source": [
    "unlabeled_df = pd.read_csv('data/UnlabeledWiDS2021.csv')"
   ]
  },
  {
   "cell_type": "markdown",
   "id": "secure-notice",
   "metadata": {},
   "source": [
    "## Let's put features here"
   ]
  },
  {
   "cell_type": "code",
   "execution_count": 6,
   "id": "neither-interference",
   "metadata": {},
   "outputs": [],
   "source": [
    "# as an example I will just take some columns that already correllate with the target"
   ]
  },
  {
   "cell_type": "code",
   "execution_count": 7,
   "id": "current-scheduling",
   "metadata": {},
   "outputs": [],
   "source": [
    "features = [\n",
    "    'd1_glucose_max',\n",
    "    'glucose_apache', \n",
    "    'weight',\n",
    "    'age',\n",
    "    'h1_diasbp_invasive_max',\n",
    "    'h1_hco3_max',\n",
    "    'd1_bun_max'\n",
    "]"
   ]
  },
  {
   "cell_type": "code",
   "execution_count": 8,
   "id": "tribal-peninsula",
   "metadata": {},
   "outputs": [
    {
     "data": {
      "text/html": [
       "<div>\n",
       "<style scoped>\n",
       "    .dataframe tbody tr th:only-of-type {\n",
       "        vertical-align: middle;\n",
       "    }\n",
       "\n",
       "    .dataframe tbody tr th {\n",
       "        vertical-align: top;\n",
       "    }\n",
       "\n",
       "    .dataframe thead th {\n",
       "        text-align: right;\n",
       "    }\n",
       "</style>\n",
       "<table border=\"1\" class=\"dataframe\">\n",
       "  <thead>\n",
       "    <tr style=\"text-align: right;\">\n",
       "      <th></th>\n",
       "      <th>d1_glucose_max</th>\n",
       "      <th>glucose_apache</th>\n",
       "      <th>weight</th>\n",
       "      <th>age</th>\n",
       "      <th>h1_diasbp_invasive_max</th>\n",
       "      <th>h1_hco3_max</th>\n",
       "      <th>d1_bun_max</th>\n",
       "    </tr>\n",
       "  </thead>\n",
       "  <tbody>\n",
       "    <tr>\n",
       "      <th>d1_glucose_max</th>\n",
       "      <td>1.000000</td>\n",
       "      <td>0.923322</td>\n",
       "      <td>0.088600</td>\n",
       "      <td>0.014772</td>\n",
       "      <td>-0.045575</td>\n",
       "      <td>-0.293122</td>\n",
       "      <td>0.184887</td>\n",
       "    </tr>\n",
       "    <tr>\n",
       "      <th>glucose_apache</th>\n",
       "      <td>0.923322</td>\n",
       "      <td>1.000000</td>\n",
       "      <td>0.092489</td>\n",
       "      <td>0.009594</td>\n",
       "      <td>-0.009383</td>\n",
       "      <td>-0.265253</td>\n",
       "      <td>0.148887</td>\n",
       "    </tr>\n",
       "    <tr>\n",
       "      <th>weight</th>\n",
       "      <td>0.088600</td>\n",
       "      <td>0.092489</td>\n",
       "      <td>1.000000</td>\n",
       "      <td>-0.125448</td>\n",
       "      <td>0.062234</td>\n",
       "      <td>0.091822</td>\n",
       "      <td>0.050998</td>\n",
       "    </tr>\n",
       "    <tr>\n",
       "      <th>age</th>\n",
       "      <td>0.014772</td>\n",
       "      <td>0.009594</td>\n",
       "      <td>-0.125448</td>\n",
       "      <td>1.000000</td>\n",
       "      <td>-0.250053</td>\n",
       "      <td>0.163897</td>\n",
       "      <td>0.239831</td>\n",
       "    </tr>\n",
       "    <tr>\n",
       "      <th>h1_diasbp_invasive_max</th>\n",
       "      <td>-0.045575</td>\n",
       "      <td>-0.009383</td>\n",
       "      <td>0.062234</td>\n",
       "      <td>-0.250053</td>\n",
       "      <td>1.000000</td>\n",
       "      <td>0.021565</td>\n",
       "      <td>-0.164543</td>\n",
       "    </tr>\n",
       "    <tr>\n",
       "      <th>h1_hco3_max</th>\n",
       "      <td>-0.293122</td>\n",
       "      <td>-0.265253</td>\n",
       "      <td>0.091822</td>\n",
       "      <td>0.163897</td>\n",
       "      <td>0.021565</td>\n",
       "      <td>1.000000</td>\n",
       "      <td>-0.218076</td>\n",
       "    </tr>\n",
       "    <tr>\n",
       "      <th>d1_bun_max</th>\n",
       "      <td>0.184887</td>\n",
       "      <td>0.148887</td>\n",
       "      <td>0.050998</td>\n",
       "      <td>0.239831</td>\n",
       "      <td>-0.164543</td>\n",
       "      <td>-0.218076</td>\n",
       "      <td>1.000000</td>\n",
       "    </tr>\n",
       "  </tbody>\n",
       "</table>\n",
       "</div>"
      ],
      "text/plain": [
       "                        d1_glucose_max  glucose_apache    weight       age  \\\n",
       "d1_glucose_max                1.000000        0.923322  0.088600  0.014772   \n",
       "glucose_apache                0.923322        1.000000  0.092489  0.009594   \n",
       "weight                        0.088600        0.092489  1.000000 -0.125448   \n",
       "age                           0.014772        0.009594 -0.125448  1.000000   \n",
       "h1_diasbp_invasive_max       -0.045575       -0.009383  0.062234 -0.250053   \n",
       "h1_hco3_max                  -0.293122       -0.265253  0.091822  0.163897   \n",
       "d1_bun_max                    0.184887        0.148887  0.050998  0.239831   \n",
       "\n",
       "                        h1_diasbp_invasive_max  h1_hco3_max  d1_bun_max  \n",
       "d1_glucose_max                       -0.045575    -0.293122    0.184887  \n",
       "glucose_apache                       -0.009383    -0.265253    0.148887  \n",
       "weight                                0.062234     0.091822    0.050998  \n",
       "age                                  -0.250053     0.163897    0.239831  \n",
       "h1_diasbp_invasive_max                1.000000     0.021565   -0.164543  \n",
       "h1_hco3_max                           0.021565     1.000000   -0.218076  \n",
       "d1_bun_max                           -0.164543    -0.218076    1.000000  "
      ]
     },
     "execution_count": 8,
     "metadata": {},
     "output_type": "execute_result"
    }
   ],
   "source": [
    "train_df[features].corr() # probably not the best idea to use features that correllate with each other"
   ]
  },
  {
   "cell_type": "markdown",
   "id": "restricted-kennedy",
   "metadata": {},
   "source": [
    "## Train model"
   ]
  },
  {
   "cell_type": "code",
   "execution_count": 9,
   "id": "unsigned-scholarship",
   "metadata": {},
   "outputs": [],
   "source": [
    "from sklearn.model_selection import train_test_split\n",
    "X, X_test, y, y_test = train_test_split(\n",
    "     train_df[features], train_df['diabetes_mellitus'], test_size=0.33, random_state=42)"
   ]
  },
  {
   "cell_type": "code",
   "execution_count": 10,
   "id": "other-binary",
   "metadata": {},
   "outputs": [],
   "source": [
    "y_valid_pred = 0*y\n",
    "y_test_pred = 0\n",
    "\n",
    "# Set up folds\n",
    "K = 5\n",
    "kf = KFold(n_splits = K, random_state = 1, shuffle = True)\n",
    "\n",
    "model = CatBoostRegressor(\n",
    "    learning_rate=0.06, \n",
    "    depth=5, \n",
    "    l2_leaf_reg = 14, \n",
    "    iterations = 850,\n",
    "    verbose = False\n",
    ")"
   ]
  },
  {
   "cell_type": "code",
   "execution_count": 11,
   "id": "signal-experiment",
   "metadata": {},
   "outputs": [
    {
     "name": "stdout",
     "output_type": "stream",
     "text": [
      "Fold  0\n",
      "Fold  1\n",
      "Fold  2\n",
      "Fold  3\n",
      "Fold  4\n"
     ]
    }
   ],
   "source": [
    "for i, (train_index, test_index) in enumerate(kf.split(X)):\n",
    "    \n",
    "    # Create data for this fold\n",
    "    y_train, y_valid = y.iloc[train_index], y.iloc[test_index]\n",
    "    X_train, X_valid = X.iloc[train_index,:], X.iloc[test_index,:]\n",
    "    print( \"Fold \", i)\n",
    "    \n",
    "    # Run model for this fold\n",
    "\n",
    "    fit_model = model.fit( X_train, y_train )\n",
    "        \n",
    "    # Generate validation predictions for this fold\n",
    "    pred = fit_model.predict(X_valid)\n",
    "    y_valid_pred.iloc[test_index] = pred\n",
    "    \n",
    "    # Accumulate test set predictions\n",
    "    y_test_pred += fit_model.predict(X_test)\n",
    "    \n",
    "y_test_pred /= K  # Average test set predictions"
   ]
  },
  {
   "cell_type": "code",
   "execution_count": 12,
   "id": "fancy-evidence",
   "metadata": {},
   "outputs": [
    {
     "data": {
      "text/plain": [
       "0.8195511060201544"
      ]
     },
     "execution_count": 12,
     "metadata": {},
     "output_type": "execute_result"
    }
   ],
   "source": [
    "roc_auc_score(y_test, y_test_pred) # 0.8155648390360045"
   ]
  },
  {
   "cell_type": "markdown",
   "id": "referenced-karma",
   "metadata": {},
   "source": [
    "## Prepare submission"
   ]
  },
  {
   "cell_type": "code",
   "execution_count": 13,
   "id": "warming-conservation",
   "metadata": {},
   "outputs": [
    {
     "ename": "AttributeError",
     "evalue": "'CatBoostRegressor' object has no attribute 'predict_proba'",
     "output_type": "error",
     "traceback": [
      "\u001b[0;31m---------------------------------------------------------------------------\u001b[0m",
      "\u001b[0;31mAttributeError\u001b[0m                            Traceback (most recent call last)",
      "\u001b[0;32m<ipython-input-13-99890607a939>\u001b[0m in \u001b[0;36m<module>\u001b[0;34m\u001b[0m\n\u001b[1;32m      1\u001b[0m \u001b[0msubmission\u001b[0m \u001b[0;34m=\u001b[0m \u001b[0mpd\u001b[0m\u001b[0;34m.\u001b[0m\u001b[0mDataFrame\u001b[0m\u001b[0;34m(\u001b[0m\u001b[0;34m)\u001b[0m\u001b[0;34m\u001b[0m\u001b[0;34m\u001b[0m\u001b[0m\n\u001b[1;32m      2\u001b[0m \u001b[0msubmission\u001b[0m\u001b[0;34m[\u001b[0m\u001b[0;34m'encounter_id'\u001b[0m\u001b[0;34m]\u001b[0m \u001b[0;34m=\u001b[0m \u001b[0munlabeled_df\u001b[0m\u001b[0;34m[\u001b[0m\u001b[0;34m'encounter_id'\u001b[0m\u001b[0;34m]\u001b[0m\u001b[0;34m\u001b[0m\u001b[0;34m\u001b[0m\u001b[0m\n\u001b[0;32m----> 3\u001b[0;31m \u001b[0msubmission\u001b[0m\u001b[0;34m[\u001b[0m\u001b[0;34m'diabetes_mellitus'\u001b[0m\u001b[0;34m]\u001b[0m \u001b[0;34m=\u001b[0m \u001b[0mfit_model\u001b[0m\u001b[0;34m.\u001b[0m\u001b[0mpredict_proba\u001b[0m\u001b[0;34m(\u001b[0m\u001b[0munlabeled_df\u001b[0m\u001b[0;34m[\u001b[0m\u001b[0mfeatures\u001b[0m\u001b[0;34m]\u001b[0m\u001b[0;34m)\u001b[0m\u001b[0;34m[\u001b[0m\u001b[0;34m:\u001b[0m\u001b[0;34m,\u001b[0m\u001b[0;36m1\u001b[0m\u001b[0;34m]\u001b[0m\u001b[0;34m\u001b[0m\u001b[0;34m\u001b[0m\u001b[0m\n\u001b[0m",
      "\u001b[0;31mAttributeError\u001b[0m: 'CatBoostRegressor' object has no attribute 'predict_proba'"
     ]
    }
   ],
   "source": [
    "submission = pd.DataFrame()\n",
    "submission['encounter_id'] = unlabeled_df['encounter_id']\n",
    "submission['diabetes_mellitus'] = fit_model.predict_proba(unlabeled_df[features])[:,1]"
   ]
  },
  {
   "cell_type": "code",
   "execution_count": null,
   "id": "muslim-calculator",
   "metadata": {},
   "outputs": [],
   "source": [
    "submission.to_csv('submission.csv', index=False)"
   ]
  },
  {
   "cell_type": "code",
   "execution_count": null,
   "id": "incorrect-thinking",
   "metadata": {},
   "outputs": [],
   "source": []
  }
 ],
 "metadata": {
  "kernelspec": {
   "display_name": "Python 3",
   "language": "python",
   "name": "python3"
  },
  "language_info": {
   "codemirror_mode": {
    "name": "ipython",
    "version": 3
   },
   "file_extension": ".py",
   "mimetype": "text/x-python",
   "name": "python",
   "nbconvert_exporter": "python",
   "pygments_lexer": "ipython3",
   "version": "3.7.9"
  }
 },
 "nbformat": 4,
 "nbformat_minor": 5
}
