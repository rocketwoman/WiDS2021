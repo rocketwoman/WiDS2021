{
 "cells": [
  {
   "cell_type": "code",
   "execution_count": 19,
   "id": "upper-southeast",
   "metadata": {},
   "outputs": [],
   "source": [
    "import pandas as pd\n",
    "import numpy as np\n",
    "import seaborn as sns\n",
    "import matplotlib.pyplot as plt\n",
    "\n",
    "from sklearn.model_selection import KFold\n",
    "from catboost import CatBoostClassifier\n",
    "\n",
    "from sklearn.metrics import roc_auc_score\n",
    "\n",
    "pd.set_option('display.max_columns', None)"
   ]
  },
  {
   "cell_type": "code",
   "execution_count": 6,
   "id": "closed-still",
   "metadata": {},
   "outputs": [],
   "source": [
    "train_df = pd.read_csv('data/TrainingWiDS2021.csv')"
   ]
  },
  {
   "cell_type": "code",
   "execution_count": 7,
   "id": "bronze-davis",
   "metadata": {},
   "outputs": [
    {
     "data": {
      "text/plain": [
       "bun_apache            0.145241\n",
       "d1_bun_max            0.146990\n",
       "weight                0.155517\n",
       "bmi                   0.169043\n",
       "h1_glucose_min        0.304520\n",
       "h1_glucose_max        0.316847\n",
       "glucose_apache        0.354359\n",
       "d1_glucose_max        0.400742\n",
       "diabetes_mellitus     1.000000\n",
       "readmission_status         NaN\n",
       "Name: diabetes_mellitus, dtype: float64"
      ]
     },
     "execution_count": 7,
     "metadata": {},
     "output_type": "execute_result"
    }
   ],
   "source": [
    "train_df.corr()['diabetes_mellitus'].sort_values().tail(10)"
   ]
  },
  {
   "cell_type": "code",
   "execution_count": 8,
   "id": "piano-credit",
   "metadata": {},
   "outputs": [
    {
     "data": {
      "text/plain": [
       "h1_diasbp_invasive_min   -0.103672\n",
       "h1_diasbp_invasive_max   -0.088664\n",
       "h1_hco3_max              -0.086883\n",
       "h1_hco3_min              -0.086548\n",
       "d1_diasbp_invasive_min   -0.084994\n",
       "d1_hemaglobin_max        -0.078801\n",
       "d1_hematocrit_max        -0.067271\n",
       "h1_hemaglobin_min        -0.065774\n",
       "h1_mbp_invasive_min      -0.065732\n",
       "h1_hemaglobin_max        -0.063734\n",
       "Name: diabetes_mellitus, dtype: float64"
      ]
     },
     "execution_count": 8,
     "metadata": {},
     "output_type": "execute_result"
    }
   ],
   "source": [
    "train_df.corr()['diabetes_mellitus'].sort_values().head(10)"
   ]
  },
  {
   "cell_type": "code",
   "execution_count": 9,
   "id": "confident-artwork",
   "metadata": {},
   "outputs": [],
   "source": [
    "unlabeled_df = pd.read_csv('data/UnlabeledWiDS2021.csv')"
   ]
  },
  {
   "cell_type": "markdown",
   "id": "secure-notice",
   "metadata": {},
   "source": [
    "## Let's put features here"
   ]
  },
  {
   "cell_type": "code",
   "execution_count": 11,
   "id": "neither-interference",
   "metadata": {},
   "outputs": [],
   "source": [
    "# as an example I will just take some columns that already correllate with the target"
   ]
  },
  {
   "cell_type": "code",
   "execution_count": 10,
   "id": "current-scheduling",
   "metadata": {},
   "outputs": [],
   "source": [
    "features = [\n",
    "    'd1_glucose_max',\n",
    "    'glucose_apache', \n",
    "    'weight',\n",
    "    'age',\n",
    "    'h1_diasbp_invasive_min'\n",
    "]"
   ]
  },
  {
   "cell_type": "code",
   "execution_count": 15,
   "id": "unsigned-scholarship",
   "metadata": {},
   "outputs": [],
   "source": [
    "from sklearn.model_selection import train_test_split\n",
    "X, X_test, y, y_test = train_test_split(\n",
    "     train_df[features], train_df['diabetes_mellitus'], test_size=0.33, random_state=42)"
   ]
  },
  {
   "cell_type": "code",
   "execution_count": 30,
   "id": "other-binary",
   "metadata": {},
   "outputs": [],
   "source": [
    "y_valid_pred = 0*y\n",
    "y_test_pred = 0\n",
    "\n",
    "# Set up folds\n",
    "K = 5\n",
    "kf = KFold(n_splits = K, random_state = 1, shuffle = True)\n",
    "\n",
    "model = CatBoostClassifier(\n",
    "    learning_rate=0.04, \n",
    "    depth=6, \n",
    "    l2_leaf_reg = 14, \n",
    "    iterations = 650,\n",
    "    verbose = False,\n",
    "    loss_function='Logloss'\n",
    ")"
   ]
  },
  {
   "cell_type": "code",
   "execution_count": 31,
   "id": "signal-experiment",
   "metadata": {},
   "outputs": [
    {
     "name": "stdout",
     "output_type": "stream",
     "text": [
      "Fold  0\n",
      "Fold  1\n",
      "Fold  2\n",
      "Fold  3\n",
      "Fold  4\n"
     ]
    }
   ],
   "source": [
    "for i, (train_index, test_index) in enumerate(kf.split(X)):\n",
    "    \n",
    "    # Create data for this fold\n",
    "    y_train, y_valid = y.iloc[train_index], y.iloc[test_index]\n",
    "    X_train, X_valid = X.iloc[train_index,:], X.iloc[test_index,:]\n",
    "    print( \"Fold \", i)\n",
    "    \n",
    "    # Run model for this fold\n",
    "\n",
    "    fit_model = model.fit( X_train, y_train )\n",
    "        \n",
    "    # Generate validation predictions for this fold\n",
    "    pred = fit_model.predict_proba(X_valid)[:,1]\n",
    "    y_valid_pred.iloc[test_index] = pred\n",
    "    \n",
    "    # Accumulate test set predictions\n",
    "    y_test_pred += fit_model.predict_proba(X_test)[:,1]\n",
    "    \n",
    "y_test_pred /= K  # Average test set predictions"
   ]
  },
  {
   "cell_type": "code",
   "execution_count": 33,
   "id": "fancy-evidence",
   "metadata": {},
   "outputs": [
    {
     "data": {
      "text/plain": [
       "0.815993383025388"
      ]
     },
     "execution_count": 33,
     "metadata": {},
     "output_type": "execute_result"
    }
   ],
   "source": [
    "roc_auc_score(y_test, y_test_pred)"
   ]
  },
  {
   "cell_type": "markdown",
   "id": "referenced-karma",
   "metadata": {},
   "source": [
    "## Prepare submission"
   ]
  },
  {
   "cell_type": "code",
   "execution_count": 34,
   "id": "warming-conservation",
   "metadata": {},
   "outputs": [],
   "source": [
    "submission = pd.DataFrame()\n",
    "submission['encounter_id'] = unlabeled_df['encounter_id']\n",
    "submission['diabetes_mellitus'] = fit_model.predict_proba(unlabeled_df[features])[:,1]"
   ]
  },
  {
   "cell_type": "code",
   "execution_count": 36,
   "id": "muslim-calculator",
   "metadata": {},
   "outputs": [],
   "source": [
    "submission.to_csv('submission.csv', index=False)"
   ]
  },
  {
   "cell_type": "code",
   "execution_count": null,
   "id": "incorrect-thinking",
   "metadata": {},
   "outputs": [],
   "source": []
  }
 ],
 "metadata": {
  "kernelspec": {
   "display_name": "Python 3",
   "language": "python",
   "name": "python3"
  },
  "language_info": {
   "codemirror_mode": {
    "name": "ipython",
    "version": 3
   },
   "file_extension": ".py",
   "mimetype": "text/x-python",
   "name": "python",
   "nbconvert_exporter": "python",
   "pygments_lexer": "ipython3",
   "version": "3.7.9"
  }
 },
 "nbformat": 4,
 "nbformat_minor": 5
}
